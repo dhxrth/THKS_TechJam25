{
  "nbformat": 4,
  "nbformat_minor": 0,
  "metadata": {
    "colab": {
      "provenance": [],
      "gpuType": "T4"
    },
    "kernelspec": {
      "name": "python3",
      "display_name": "Python 3"
    },
    "language_info": {
      "name": "python"
    },
    "accelerator": "GPU"
  },
  "cells": [
    {
      "cell_type": "code",
      "execution_count": null,
      "metadata": {
        "colab": {
          "base_uri": "https://localhost:8080/"
        },
        "id": "EuQg9VVbsOPs",
        "outputId": "5e2a4f65-6565-40d2-e18c-ee576089ad84"
      },
      "outputs": [
        {
          "output_type": "stream",
          "name": "stdout",
          "text": [
            "Requirement already satisfied: transformers in /usr/local/lib/python3.12/dist-packages (4.55.4)\n",
            "Requirement already satisfied: torch in /usr/local/lib/python3.12/dist-packages (2.8.0+cu126)\n",
            "Requirement already satisfied: datasets in /usr/local/lib/python3.12/dist-packages (4.0.0)\n",
            "Requirement already satisfied: scikit-learn in /usr/local/lib/python3.12/dist-packages (1.6.1)\n",
            "Requirement already satisfied: matplotlib in /usr/local/lib/python3.12/dist-packages (3.10.0)\n",
            "Requirement already satisfied: seaborn in /usr/local/lib/python3.12/dist-packages (0.13.2)\n",
            "Requirement already satisfied: tqdm in /usr/local/lib/python3.12/dist-packages (4.67.1)\n",
            "Requirement already satisfied: chardet in /usr/local/lib/python3.12/dist-packages (5.2.0)\n",
            "Requirement already satisfied: filelock in /usr/local/lib/python3.12/dist-packages (from transformers) (3.19.1)\n",
            "Requirement already satisfied: huggingface-hub<1.0,>=0.34.0 in /usr/local/lib/python3.12/dist-packages (from transformers) (0.34.4)\n",
            "Requirement already satisfied: numpy>=1.17 in /usr/local/lib/python3.12/dist-packages (from transformers) (2.0.2)\n",
            "Requirement already satisfied: packaging>=20.0 in /usr/local/lib/python3.12/dist-packages (from transformers) (25.0)\n",
            "Requirement already satisfied: pyyaml>=5.1 in /usr/local/lib/python3.12/dist-packages (from transformers) (6.0.2)\n",
            "Requirement already satisfied: regex!=2019.12.17 in /usr/local/lib/python3.12/dist-packages (from transformers) (2024.11.6)\n",
            "Requirement already satisfied: requests in /usr/local/lib/python3.12/dist-packages (from transformers) (2.32.4)\n",
            "Requirement already satisfied: tokenizers<0.22,>=0.21 in /usr/local/lib/python3.12/dist-packages (from transformers) (0.21.4)\n",
            "Requirement already satisfied: safetensors>=0.4.3 in /usr/local/lib/python3.12/dist-packages (from transformers) (0.6.2)\n",
            "Requirement already satisfied: typing-extensions>=4.10.0 in /usr/local/lib/python3.12/dist-packages (from torch) (4.15.0)\n",
            "Requirement already satisfied: setuptools in /usr/local/lib/python3.12/dist-packages (from torch) (75.2.0)\n",
            "Requirement already satisfied: sympy>=1.13.3 in /usr/local/lib/python3.12/dist-packages (from torch) (1.13.3)\n",
            "Requirement already satisfied: networkx in /usr/local/lib/python3.12/dist-packages (from torch) (3.5)\n",
            "Requirement already satisfied: jinja2 in /usr/local/lib/python3.12/dist-packages (from torch) (3.1.6)\n",
            "Requirement already satisfied: fsspec in /usr/local/lib/python3.12/dist-packages (from torch) (2025.3.0)\n",
            "Requirement already satisfied: nvidia-cuda-nvrtc-cu12==12.6.77 in /usr/local/lib/python3.12/dist-packages (from torch) (12.6.77)\n",
            "Requirement already satisfied: nvidia-cuda-runtime-cu12==12.6.77 in /usr/local/lib/python3.12/dist-packages (from torch) (12.6.77)\n",
            "Requirement already satisfied: nvidia-cuda-cupti-cu12==12.6.80 in /usr/local/lib/python3.12/dist-packages (from torch) (12.6.80)\n",
            "Requirement already satisfied: nvidia-cudnn-cu12==9.10.2.21 in /usr/local/lib/python3.12/dist-packages (from torch) (9.10.2.21)\n",
            "Requirement already satisfied: nvidia-cublas-cu12==12.6.4.1 in /usr/local/lib/python3.12/dist-packages (from torch) (12.6.4.1)\n",
            "Requirement already satisfied: nvidia-cufft-cu12==11.3.0.4 in /usr/local/lib/python3.12/dist-packages (from torch) (11.3.0.4)\n",
            "Requirement already satisfied: nvidia-curand-cu12==10.3.7.77 in /usr/local/lib/python3.12/dist-packages (from torch) (10.3.7.77)\n",
            "Requirement already satisfied: nvidia-cusolver-cu12==11.7.1.2 in /usr/local/lib/python3.12/dist-packages (from torch) (11.7.1.2)\n",
            "Requirement already satisfied: nvidia-cusparse-cu12==12.5.4.2 in /usr/local/lib/python3.12/dist-packages (from torch) (12.5.4.2)\n",
            "Requirement already satisfied: nvidia-cusparselt-cu12==0.7.1 in /usr/local/lib/python3.12/dist-packages (from torch) (0.7.1)\n",
            "Requirement already satisfied: nvidia-nccl-cu12==2.27.3 in /usr/local/lib/python3.12/dist-packages (from torch) (2.27.3)\n",
            "Requirement already satisfied: nvidia-nvtx-cu12==12.6.77 in /usr/local/lib/python3.12/dist-packages (from torch) (12.6.77)\n",
            "Requirement already satisfied: nvidia-nvjitlink-cu12==12.6.85 in /usr/local/lib/python3.12/dist-packages (from torch) (12.6.85)\n",
            "Requirement already satisfied: nvidia-cufile-cu12==1.11.1.6 in /usr/local/lib/python3.12/dist-packages (from torch) (1.11.1.6)\n",
            "Requirement already satisfied: triton==3.4.0 in /usr/local/lib/python3.12/dist-packages (from torch) (3.4.0)\n",
            "Requirement already satisfied: pyarrow>=15.0.0 in /usr/local/lib/python3.12/dist-packages (from datasets) (18.1.0)\n",
            "Requirement already satisfied: dill<0.3.9,>=0.3.0 in /usr/local/lib/python3.12/dist-packages (from datasets) (0.3.8)\n",
            "Requirement already satisfied: pandas in /usr/local/lib/python3.12/dist-packages (from datasets) (2.2.2)\n",
            "Requirement already satisfied: xxhash in /usr/local/lib/python3.12/dist-packages (from datasets) (3.5.0)\n",
            "Requirement already satisfied: multiprocess<0.70.17 in /usr/local/lib/python3.12/dist-packages (from datasets) (0.70.16)\n",
            "Requirement already satisfied: scipy>=1.6.0 in /usr/local/lib/python3.12/dist-packages (from scikit-learn) (1.16.1)\n",
            "Requirement already satisfied: joblib>=1.2.0 in /usr/local/lib/python3.12/dist-packages (from scikit-learn) (1.5.1)\n",
            "Requirement already satisfied: threadpoolctl>=3.1.0 in /usr/local/lib/python3.12/dist-packages (from scikit-learn) (3.6.0)\n",
            "Requirement already satisfied: contourpy>=1.0.1 in /usr/local/lib/python3.12/dist-packages (from matplotlib) (1.3.3)\n",
            "Requirement already satisfied: cycler>=0.10 in /usr/local/lib/python3.12/dist-packages (from matplotlib) (0.12.1)\n",
            "Requirement already satisfied: fonttools>=4.22.0 in /usr/local/lib/python3.12/dist-packages (from matplotlib) (4.59.1)\n",
            "Requirement already satisfied: kiwisolver>=1.3.1 in /usr/local/lib/python3.12/dist-packages (from matplotlib) (1.4.9)\n",
            "Requirement already satisfied: pillow>=8 in /usr/local/lib/python3.12/dist-packages (from matplotlib) (11.3.0)\n",
            "Requirement already satisfied: pyparsing>=2.3.1 in /usr/local/lib/python3.12/dist-packages (from matplotlib) (3.2.3)\n",
            "Requirement already satisfied: python-dateutil>=2.7 in /usr/local/lib/python3.12/dist-packages (from matplotlib) (2.9.0.post0)\n",
            "Requirement already satisfied: aiohttp!=4.0.0a0,!=4.0.0a1 in /usr/local/lib/python3.12/dist-packages (from fsspec[http]<=2025.3.0,>=2023.1.0->datasets) (3.12.15)\n",
            "Requirement already satisfied: hf-xet<2.0.0,>=1.1.3 in /usr/local/lib/python3.12/dist-packages (from huggingface-hub<1.0,>=0.34.0->transformers) (1.1.8)\n",
            "Requirement already satisfied: pytz>=2020.1 in /usr/local/lib/python3.12/dist-packages (from pandas->datasets) (2025.2)\n",
            "Requirement already satisfied: tzdata>=2022.7 in /usr/local/lib/python3.12/dist-packages (from pandas->datasets) (2025.2)\n",
            "Requirement already satisfied: six>=1.5 in /usr/local/lib/python3.12/dist-packages (from python-dateutil>=2.7->matplotlib) (1.17.0)\n",
            "Requirement already satisfied: charset_normalizer<4,>=2 in /usr/local/lib/python3.12/dist-packages (from requests->transformers) (3.4.3)\n",
            "Requirement already satisfied: idna<4,>=2.5 in /usr/local/lib/python3.12/dist-packages (from requests->transformers) (3.10)\n",
            "Requirement already satisfied: urllib3<3,>=1.21.1 in /usr/local/lib/python3.12/dist-packages (from requests->transformers) (2.5.0)\n",
            "Requirement already satisfied: certifi>=2017.4.17 in /usr/local/lib/python3.12/dist-packages (from requests->transformers) (2025.8.3)\n",
            "Requirement already satisfied: mpmath<1.4,>=1.1.0 in /usr/local/lib/python3.12/dist-packages (from sympy>=1.13.3->torch) (1.3.0)\n",
            "Requirement already satisfied: MarkupSafe>=2.0 in /usr/local/lib/python3.12/dist-packages (from jinja2->torch) (3.0.2)\n",
            "Requirement already satisfied: aiohappyeyeballs>=2.5.0 in /usr/local/lib/python3.12/dist-packages (from aiohttp!=4.0.0a0,!=4.0.0a1->fsspec[http]<=2025.3.0,>=2023.1.0->datasets) (2.6.1)\n",
            "Requirement already satisfied: aiosignal>=1.4.0 in /usr/local/lib/python3.12/dist-packages (from aiohttp!=4.0.0a0,!=4.0.0a1->fsspec[http]<=2025.3.0,>=2023.1.0->datasets) (1.4.0)\n",
            "Requirement already satisfied: attrs>=17.3.0 in /usr/local/lib/python3.12/dist-packages (from aiohttp!=4.0.0a0,!=4.0.0a1->fsspec[http]<=2025.3.0,>=2023.1.0->datasets) (25.3.0)\n",
            "Requirement already satisfied: frozenlist>=1.1.1 in /usr/local/lib/python3.12/dist-packages (from aiohttp!=4.0.0a0,!=4.0.0a1->fsspec[http]<=2025.3.0,>=2023.1.0->datasets) (1.7.0)\n",
            "Requirement already satisfied: multidict<7.0,>=4.5 in /usr/local/lib/python3.12/dist-packages (from aiohttp!=4.0.0a0,!=4.0.0a1->fsspec[http]<=2025.3.0,>=2023.1.0->datasets) (6.6.4)\n",
            "Requirement already satisfied: propcache>=0.2.0 in /usr/local/lib/python3.12/dist-packages (from aiohttp!=4.0.0a0,!=4.0.0a1->fsspec[http]<=2025.3.0,>=2023.1.0->datasets) (0.3.2)\n",
            "Requirement already satisfied: yarl<2.0,>=1.17.0 in /usr/local/lib/python3.12/dist-packages (from aiohttp!=4.0.0a0,!=4.0.0a1->fsspec[http]<=2025.3.0,>=2023.1.0->datasets) (1.20.1)\n"
          ]
        }
      ],
      "source": [
        "!pip install transformers torch datasets scikit-learn matplotlib seaborn tqdm chardet"
      ]
    },
    {
      "cell_type": "code",
      "source": [
        "import pandas as pd\n",
        "import numpy as np\n",
        "import torch\n",
        "from torch.utils.data import Dataset, DataLoader\n",
        "from transformers import (\n",
        "    AutoTokenizer,\n",
        "    AutoModelForSequenceClassification,\n",
        "    TrainingArguments,\n",
        "    Trainer,\n",
        "    pipeline\n",
        ")\n",
        "from sklearn.model_selection import train_test_split\n",
        "from sklearn.metrics import classification_report, confusion_matrix\n",
        "import matplotlib.pyplot as plt\n",
        "import seaborn as sns\n",
        "from tqdm import tqdm\n",
        "import warnings\n",
        "warnings.filterwarnings('ignore')\n"
      ],
      "metadata": {
        "id": "NRW_PIsFuLUb"
      },
      "execution_count": null,
      "outputs": []
    },
    {
      "cell_type": "code",
      "source": [
        "device = torch.device('cuda' if torch.cuda.is_available() else 'cpu')\n",
        "print(f\"Using device: {device}\")\n",
        "if torch.cuda.is_available():\n",
        "    print(f\"GPU: {torch.cuda.get_device_name(0)}\")\n",
        "    print(f\"GPU Memory: {torch.cuda.get_device_properties(0).total_memory / 1e9:.1f} GB\")\n",
        "\n",
        "# Configuration class\n",
        "class Config:\n",
        "    # Model selection - DistilBERT is efficient for T4 GPU\n",
        "    MODEL_NAME = \"FacebookAI/roberta-base\"\n",
        "    MAX_LENGTH = 256  # Shorter for efficiency\n",
        "    BATCH_SIZE = 16   # Appropriate for T4\n",
        "    LEARNING_RATE = 1e-5\n",
        "    EPOCHS = 7\n",
        "    WARMUP_STEPS = 500\n",
        "\n",
        "    # Policy categories\n",
        "    POLICIES = {\n",
        "        0: \"Valid Review\",\n",
        "        1: \"Advertisement\",\n",
        "        2: \"Irrelevant Content\",\n",
        "        3: \"Rant Without Visit\"\n",
        "    }\n",
        "\n",
        "print(\"Configuration loaded successfully!\")\n"
      ],
      "metadata": {
        "colab": {
          "base_uri": "https://localhost:8080/"
        },
        "id": "tvH_ohUCuP9a",
        "outputId": "604eb16d-9569-4997-b927-e2452ce97d4f"
      },
      "execution_count": null,
      "outputs": [
        {
          "output_type": "stream",
          "name": "stdout",
          "text": [
            "Using device: cuda\n",
            "GPU: Tesla T4\n",
            "GPU Memory: 15.8 GB\n",
            "Configuration loaded successfully!\n"
          ]
        }
      ]
    },
    {
      "cell_type": "code",
      "source": [
        "class ReviewDataset(Dataset):\n",
        "    def __init__(self, texts, labels, tokenizer, max_length):\n",
        "        self.texts = texts\n",
        "        self.labels = labels\n",
        "        self.tokenizer = tokenizer\n",
        "        self.max_length = max_length\n",
        "\n",
        "    def __len__(self):\n",
        "        return len(self.texts)\n",
        "\n",
        "    def __getitem__(self, idx):\n",
        "        text = str(self.texts[idx])\n",
        "        label = self.labels[idx]\n",
        "\n",
        "        encoding = self.tokenizer(\n",
        "            text,\n",
        "            truncation=True,\n",
        "            padding='max_length',\n",
        "            max_length=self.max_length,\n",
        "            return_tensors='pt'\n",
        "        )\n",
        "\n",
        "        return {\n",
        "            'input_ids': encoding['input_ids'].flatten(),\n",
        "            'attention_mask': encoding['attention_mask'].flatten(),\n",
        "            'labels': torch.tensor(label, dtype=torch.long)\n",
        "        }\n",
        "\n",
        "print(\"Dataset class defined!\")"
      ],
      "metadata": {
        "colab": {
          "base_uri": "https://localhost:8080/"
        },
        "id": "G5OAQiX_aOVz",
        "outputId": "a46154b0-2ff0-4426-a46b-b0e236ed7c9e"
      },
      "execution_count": null,
      "outputs": [
        {
          "output_type": "stream",
          "name": "stdout",
          "text": [
            "Dataset class defined!\n"
          ]
        }
      ]
    },
    {
      "cell_type": "code",
      "source": [
        "def prepare_data(df, review_col='text_clean', label_col='label'):\n",
        "    \"\"\"\n",
        "    Prepare data for training\n",
        "    \"\"\"\n",
        "    # If no labels provided, create synthetic ones\n",
        "    if label_col is None or label_col not in df.columns:\n",
        "        print(\"No labels found. Creating synthetic labels based on heuristics...\")\n",
        "        labels = create_synthetic_labels(df, review_col)\n",
        "        df['synthetic_labels'] = labels\n",
        "        label_col = 'synthetic_labels'\n",
        "\n",
        "    texts = df[review_col].tolist()\n",
        "    labels = df[label_col].tolist()\n",
        "\n",
        "    return texts, labels\n",
        "\n",
        "print(\"Data preparation functions ready!\")\n",
        "\n",
        "# Cell 6: Load Your Labeled Dataset\n",
        "print(\"Loading labeled dataset...\")\n",
        "\n",
        "import chardet\n",
        "\n",
        "# Detect encoding\n",
        "with open('sampled_cleaned.csv', 'rb') as f:\n",
        "    result = chardet.detect(f.read())\n",
        "    encoding = result['encoding']\n",
        "    print(f\"Detected encoding: {encoding}\")\n",
        "\n",
        "# Load your actual labeled CSV file with detected encoding\n",
        "df = pd.read_csv('sampled_cleaned.csv', encoding=encoding)\n",
        "\n",
        "print(f\"Dataset loaded with {len(df)} reviews\")\n",
        "print(f\"Columns: {list(df.columns)}\")\n",
        "\n",
        "# Check the first few rows to understand structure\n",
        "print(\"\\nFirst 5 rows:\")\n",
        "print(df.head())\n",
        "\n",
        "# Manual label mapping (add this after loading your CSV)\n",
        "label_mapping = {\n",
        "    'relevant': 0,\n",
        "    'advert': 1,\n",
        "    'irrelevant': 2,\n",
        "    'rant_no_visit': 3\n",
        "}\n",
        "\n",
        "df['label'] = df['label'].map(label_mapping)\n",
        "df['label'] = df['label'].astype('Int64')\n",
        "print(df['label'].value_counts())\n",
        "nan_count = df['text_clean'].isna().sum()\n",
        "print(nan_count)\n",
        "\n",
        "\n",
        "df = df.dropna(subset=['label']).copy() # Remove rows where mapping resulted in NaN and use copy to avoid warning\n",
        "\n",
        "# Filter out rows with NaN in 'text_clean'\n",
        "df = df.dropna(subset=['text_clean']).copy()\n",
        "\n",
        "# Prepare data using your actual labels\n",
        "texts, labels = prepare_data(df, 'text_clean', 'label')\n",
        "\n",
        "print(f\"\\nFinal dataset size: {len(texts)} reviews\")\n",
        "print(f\"Label distribution:\")\n",
        "for label_id, count in pd.Series(labels).value_counts().sort_index().items():\n",
        "    if label_id in Config.POLICIES:\n",
        "        print(f\"  {Config.POLICIES[label_id]}: {count}\")\n",
        "    else:\n",
        "        print(f\"  Label {label_id}: {count}\")\n",
        "\n"
      ],
      "metadata": {
        "colab": {
          "base_uri": "https://localhost:8080/"
        },
        "id": "MZsVcKLqcvPl",
        "outputId": "fbf3c3af-2a7c-443d-b5b9-4e270cb35599"
      },
      "execution_count": null,
      "outputs": [
        {
          "output_type": "stream",
          "name": "stdout",
          "text": [
            "Data preparation functions ready!\n",
            "Loading labeled dataset...\n",
            "Detected encoding: MacRoman\n",
            "Dataset loaded with 411 reviews\n",
            "Columns: ['user_id', 'name', 'time', 'rating', 'text', 'pics', 'resp', 'gmap_id', 'text_clean', 'label']\n",
            "\n",
            "First 5 rows:\n",
            "                 user_id                name          time  rating  \\\n",
            "0  106518268308075202016        Shawn Bauman  1.548890e+12       5   \n",
            "1  116465907597878264380    Danielle Sanders  1.573830e+12       5   \n",
            "2  118357919834630147032       Josh Ashcraft  1.505430e+12       3   \n",
            "3  105854762895621736423  Krysten Huntington  1.599000e+12       4   \n",
            "4  114696174715857105226        Dale Gribble  1.617600e+12       5   \n",
            "\n",
            "                                                text pics resp  \\\n",
            "0  Excellent customer service here.  Fast take ou...  NaN  NaN   \n",
            "1                                                NaN  NaN  NaN   \n",
            "2                                                NaN  NaN  NaN   \n",
            "3                                                NaN  NaN  NaN   \n",
            "4                                                NaN  NaN  NaN   \n",
            "\n",
            "                                 gmap_id  \\\n",
            "0  0x56c89628b3e0c5f9:0xf90b4630650f3f76   \n",
            "1  0x513244da50ed9bc9:0x4e64bcbfc182d26a   \n",
            "2  0x56c8964264e4451f:0x1f5085880c167361   \n",
            "3  0x56c91dfaa64c4b25:0xfe62e59c93064853   \n",
            "4   0x51324ff8a1e716c7:0x853ca9d84e68836   \n",
            "\n",
            "                                          text_clean       label  \n",
            "0  excellent customer service fast take excellent...    relevant  \n",
            "1                                                NaN  irrelevant  \n",
            "2                                                NaN  irrelevant  \n",
            "3                                                NaN  irrelevant  \n",
            "4                                                NaN  irrelevant  \n",
            "label\n",
            "2    223\n",
            "0    173\n",
            "3      7\n",
            "1      7\n",
            "Name: count, dtype: Int64\n",
            "153\n",
            "\n",
            "Final dataset size: 257 reviews\n",
            "Label distribution:\n",
            "  Valid Review: 173\n",
            "  Advertisement: 7\n",
            "  Irrelevant Content: 70\n",
            "  Rant Without Visit: 7\n"
          ]
        }
      ]
    },
    {
      "cell_type": "code",
      "source": [
        "import os\n",
        "\n",
        "class ReviewClassifier:\n",
        "    def __init__(self, model_name=Config.MODEL_NAME, num_labels=4):\n",
        "        self.model_name = model_name\n",
        "        self.num_labels = num_labels\n",
        "        self.tokenizer = AutoTokenizer.from_pretrained(model_name)\n",
        "        self.model = AutoModelForSequenceClassification.from_pretrained(\n",
        "            model_name,\n",
        "            num_labels=num_labels,\n",
        "        )\n",
        "\n",
        "        # Move model to GPU\n",
        "        self.model.to(device)\n",
        "        print(f\"Model {model_name} loaded and moved to {device}\")\n",
        "\n",
        "    def prepare_datasets(self, texts, labels, test_size=0.2, val_size=0.1):\n",
        "        \"\"\"Split data and create datasets\"\"\"\n",
        "        # Split data\n",
        "        X_train, X_temp, y_train, y_temp = train_test_split(\n",
        "            texts, labels, test_size=test_size + val_size, random_state=42, stratify=None\n",
        "        )\n",
        "\n",
        "        X_val, X_test, y_val, y_test = train_test_split(\n",
        "            X_temp, y_temp, test_size=test_size/(test_size + val_size),\n",
        "            random_state=42, stratify=None\n",
        "        )\n",
        "\n",
        "        # Create datasets\n",
        "        train_dataset = ReviewDataset(X_train, y_train, self.tokenizer, Config.MAX_LENGTH)\n",
        "        val_dataset = ReviewDataset(X_val, y_val, self.tokenizer, Config.MAX_LENGTH)\n",
        "        test_dataset = ReviewDataset(X_test, y_test, self.tokenizer, Config.MAX_LENGTH)\n",
        "\n",
        "        return train_dataset, val_dataset, test_dataset\n",
        "\n",
        "    def predict_single(self, text):\n",
        "        \"\"\"Predict a single review\"\"\"\n",
        "        self.model.eval()\n",
        "\n",
        "        encoding = self.tokenizer(\n",
        "            text,\n",
        "            truncation=True,\n",
        "            padding='max_length',\n",
        "            max_length=Config.MAX_LENGTH,\n",
        "            return_tensors='pt'\n",
        "        )\n",
        "\n",
        "        with torch.no_grad():\n",
        "            input_ids = encoding['input_ids'].to(device)\n",
        "            attention_mask = encoding['attention_mask'].to(device)\n",
        "\n",
        "            outputs = self.model(input_ids=input_ids, attention_mask=attention_mask)\n",
        "            prediction = torch.argmax(outputs.logits, dim=-1).item()\n",
        "            confidence = torch.nn.functional.softmax(outputs.logits, dim=-1).max().item()\n",
        "\n",
        "        return prediction, confidence\n",
        "\n",
        "# Initialize classifier\n",
        "classifier = ReviewClassifier()"
      ],
      "metadata": {
        "colab": {
          "base_uri": "https://localhost:8080/"
        },
        "id": "siOb9iwlu09L",
        "outputId": "e1331921-8495-4030-f2ad-4e06fb1488b1"
      },
      "execution_count": null,
      "outputs": [
        {
          "output_type": "stream",
          "name": "stderr",
          "text": [
            "Some weights of RobertaForSequenceClassification were not initialized from the model checkpoint at FacebookAI/roberta-base and are newly initialized: ['classifier.dense.bias', 'classifier.dense.weight', 'classifier.out_proj.bias', 'classifier.out_proj.weight']\n",
            "You should probably TRAIN this model on a down-stream task to be able to use it for predictions and inference.\n"
          ]
        },
        {
          "output_type": "stream",
          "name": "stdout",
          "text": [
            "Model FacebookAI/roberta-base loaded and moved to cuda\n"
          ]
        }
      ]
    },
    {
      "cell_type": "code",
      "source": [
        "train_dataset, val_dataset, test_dataset = classifier.prepare_datasets(texts, labels)\n",
        "\n",
        "print(f\"Dataset splits:\")\n",
        "print(f\"  Train size: {len(train_dataset)}\")\n",
        "print(f\"  Validation size: {len(val_dataset)}\")\n",
        "print(f\"  Test size: {len(test_dataset)}\")\n",
        "\n",
        "# Check class distribution in splits\n",
        "def check_label_distribution(dataset, name):\n",
        "    labels = [dataset[i]['labels'].item() for i in range(len(dataset))]\n",
        "    print(f\"\\n{name} label distribution:\")\n",
        "    for label_id, count in pd.Series(labels).value_counts().sort_index().items():\n",
        "        print(f\"  {Config.POLICIES[label_id]}: {count}\")"
      ],
      "metadata": {
        "colab": {
          "base_uri": "https://localhost:8080/"
        },
        "id": "VxOBN9umu4zk",
        "outputId": "3fe548c4-2475-40f7-f389-44761d6d391e"
      },
      "execution_count": null,
      "outputs": [
        {
          "output_type": "stream",
          "name": "stdout",
          "text": [
            "Dataset splits:\n",
            "  Train size: 179\n",
            "  Validation size: 26\n",
            "  Test size: 52\n"
          ]
        }
      ]
    },
    {
      "cell_type": "code",
      "source": [
        "def setup_training(model, train_dataset, val_dataset):\n",
        "    \"\"\"Setup training arguments and trainer\"\"\"\n",
        "\n",
        "    training_args = TrainingArguments(\n",
        "        output_dir='./results',\n",
        "        num_train_epochs=Config.EPOCHS,\n",
        "        per_device_train_batch_size=Config.BATCH_SIZE,\n",
        "        per_device_eval_batch_size=Config.BATCH_SIZE,\n",
        "        warmup_steps=Config.WARMUP_STEPS,\n",
        "        weight_decay=0.01,\n",
        "        logging_dir='./logs',\n",
        "        logging_steps=50,\n",
        "        eval_strategy=\"steps\", # Corrected from evaluation_strategy\n",
        "        eval_steps=200,\n",
        "        save_strategy=\"steps\",\n",
        "        save_steps=200,\n",
        "        load_best_model_at_end=True,\n",
        "        metric_for_best_model=\"eval_loss\",\n",
        "        fp16=True,  # Enable mixed precision for T4\n",
        "        dataloader_pin_memory=False,  # Disable for stability on Colab\n",
        "        report_to= \"none\",  # Disable wandb logging\n",
        "    )\n",
        "\n",
        "    trainer = Trainer(\n",
        "        model=model,\n",
        "        args=training_args,\n",
        "        train_dataset=train_dataset,\n",
        "        eval_dataset=val_dataset,\n",
        "    )\n",
        "\n",
        "    return trainer\n",
        "\n",
        "# Setup trainer\n",
        "trainer = setup_training(classifier.model, train_dataset, val_dataset)\n",
        "print(\"Training setup complete!\")"
      ],
      "metadata": {
        "id": "dykbrZr1u5e3",
        "colab": {
          "base_uri": "https://localhost:8080/"
        },
        "outputId": "c2015d2f-da57-42ee-c2f4-e79e116c853b"
      },
      "execution_count": null,
      "outputs": [
        {
          "output_type": "stream",
          "name": "stdout",
          "text": [
            "Training setup complete!\n"
          ]
        }
      ]
    },
    {
      "cell_type": "code",
      "source": [
        "import gc\n",
        "gc.collect()\n",
        "torch.cuda.empty_cache()\n",
        "os.environ[\"WANDB_DISABLED\"] = \"true\"\n",
        "\n",
        "print(\"Starting training...\")\n",
        "print(\"=\" * 40)\n",
        "\n",
        "# Train the model\n",
        "training_output = trainer.train()\n",
        "\n",
        "print(\"\\nTraining completed!\")\n",
        "print(f\"Final training loss: {training_output.training_loss:.4f}\")"
      ],
      "metadata": {
        "id": "KPxV6mlVvBfR",
        "colab": {
          "base_uri": "https://localhost:8080/",
          "height": 162
        },
        "outputId": "183a7fee-d7da-4095-b8d3-8e4debc545b1"
      },
      "execution_count": null,
      "outputs": [
        {
          "output_type": "stream",
          "name": "stdout",
          "text": [
            "Starting training...\n",
            "========================================\n"
          ]
        },
        {
          "output_type": "display_data",
          "data": {
            "text/plain": [
              "<IPython.core.display.HTML object>"
            ],
            "text/html": [
              "\n",
              "    <div>\n",
              "      \n",
              "      <progress value='84' max='84' style='width:300px; height:20px; vertical-align: middle;'></progress>\n",
              "      [84/84 00:29, Epoch 7/7]\n",
              "    </div>\n",
              "    <table border=\"1\" class=\"dataframe\">\n",
              "  <thead>\n",
              " <tr style=\"text-align: left;\">\n",
              "      <th>Step</th>\n",
              "      <th>Training Loss</th>\n",
              "      <th>Validation Loss</th>\n",
              "    </tr>\n",
              "  </thead>\n",
              "  <tbody>\n",
              "  </tbody>\n",
              "</table><p>"
            ]
          },
          "metadata": {}
        },
        {
          "output_type": "stream",
          "name": "stdout",
          "text": [
            "\n",
            "Training completed!\n",
            "Final training loss: 1.1235\n"
          ]
        }
      ]
    },
    {
      "cell_type": "code",
      "source": [
        "def evaluate_model(model, test_dataset):\n",
        "    \"\"\"Evaluate the model on test dataset\"\"\"\n",
        "    model.eval()\n",
        "    predictions = []\n",
        "    true_labels = []\n",
        "\n",
        "    test_loader = DataLoader(test_dataset, batch_size=Config.BATCH_SIZE, shuffle=False)\n",
        "\n",
        "    with torch.no_grad():\n",
        "        for batch in tqdm(test_loader, desc=\"Evaluating\"):\n",
        "            input_ids = batch['input_ids'].to(device)\n",
        "            attention_mask = batch['attention_mask'].to(device)\n",
        "            labels = batch['labels'].to(device)\n",
        "\n",
        "            outputs = model(input_ids=input_ids, attention_mask=attention_mask)\n",
        "            preds = torch.argmax(outputs.logits, dim=-1)\n",
        "\n",
        "            predictions.extend(preds.cpu().numpy())\n",
        "            true_labels.extend(labels.cpu().numpy())\n",
        "\n",
        "    return predictions, true_labels\n",
        "\n",
        "def plot_confusion_matrix(y_true, y_pred, labels):\n",
        "    \"\"\"Plot confusion matrix\"\"\"\n",
        "    cm = confusion_matrix(y_true, y_pred)\n",
        "    plt.figure(figsize=(10, 8))\n",
        "    sns.heatmap(cm, annot=True, fmt='d', cmap='Blues',\n",
        "                xticklabels=labels, yticklabels=labels)\n",
        "    plt.title('Confusion Matrix - Review Quality Classification')\n",
        "    plt.ylabel('True Label')\n",
        "    plt.xlabel('Predicted Label')\n",
        "    plt.tight_layout()\n",
        "    plt.show()\n",
        "\n",
        "def evaluate_model_performance(y_true, y_pred):\n",
        "    \"\"\"Print detailed evaluation metrics\"\"\"\n",
        "    print(\"Classification Report:\")\n",
        "    print(\"=\" * 60)\n",
        "    print(classification_report(y_true, y_pred, target_names=list(Config.POLICIES.values())))\n",
        "\n",
        "    # Plot confusion matrix\n",
        "    plot_confusion_matrix(y_true, y_pred, list(Config.POLICIES.values()))\n",
        "\n",
        "    # Additional metrics\n",
        "    from sklearn.metrics import accuracy_score, f1_score\n",
        "    accuracy = accuracy_score(y_true, y_pred)\n",
        "    f1_macro = f1_score(y_true, y_pred, average='macro')\n",
        "    f1_weighted = f1_score(y_true, y_pred, average='weighted')\n",
        "\n",
        "    print(f\"\\nOverall Metrics:\")\n",
        "    print(f\"Accuracy: {accuracy:.4f}\")\n",
        "    print(f\"F1-Score (Macro): {f1_macro:.4f}\")\n",
        "    print(f\"F1-Score (Weighted): {f1_weighted:.4f}\")\n",
        "\n",
        "print(\"Evaluation functions loaded!\")"
      ],
      "metadata": {
        "id": "loJbZxqIvHRg",
        "colab": {
          "base_uri": "https://localhost:8080/"
        },
        "outputId": "98b9572c-35ad-476c-c4ae-6136edabca1c"
      },
      "execution_count": null,
      "outputs": [
        {
          "output_type": "stream",
          "name": "stdout",
          "text": [
            "Evaluation functions loaded!\n"
          ]
        }
      ]
    },
    {
      "cell_type": "code",
      "source": [
        "print(\"Evaluating model on test set...\")\n",
        "predictions, true_labels = evaluate_model(classifier.model, test_dataset)\n",
        "\n",
        "# Print detailed evaluation\n",
        "evaluate_model_performance(true_labels, predictions)"
      ],
      "metadata": {
        "id": "2-j-GOYdvYXY",
        "colab": {
          "base_uri": "https://localhost:8080/",
          "height": 1000
        },
        "outputId": "8d4b96c2-9ce0-4c4c-9629-5e92ab8ed795"
      },
      "execution_count": null,
      "outputs": [
        {
          "output_type": "stream",
          "name": "stdout",
          "text": [
            "Evaluating model on test set...\n"
          ]
        },
        {
          "output_type": "stream",
          "name": "stderr",
          "text": [
            "Evaluating: 100%|██████████| 4/4 [00:00<00:00, 15.82it/s]\n"
          ]
        },
        {
          "output_type": "stream",
          "name": "stdout",
          "text": [
            "Classification Report:\n",
            "============================================================\n",
            "                    precision    recall  f1-score   support\n",
            "\n",
            "      Valid Review       0.83      1.00      0.91        35\n",
            "     Advertisement       0.00      0.00      0.00         1\n",
            "Irrelevant Content       1.00      0.71      0.83        14\n",
            "Rant Without Visit       0.00      0.00      0.00         2\n",
            "\n",
            "          accuracy                           0.87        52\n",
            "         macro avg       0.46      0.43      0.44        52\n",
            "      weighted avg       0.83      0.87      0.84        52\n",
            "\n"
          ]
        },
        {
          "output_type": "display_data",
          "data": {
            "text/plain": [
              "<Figure size 1000x800 with 2 Axes>"
            ],
            "image/png": "[encoded data removed]"
          },
          "metadata": {}
        },
        {
          "output_type": "stream",
          "name": "stdout",
          "text": [
            "\n",
            "Overall Metrics:\n",
            "Accuracy: 0.8654\n",
            "F1-Score (Macro): 0.4356\n",
            "F1-Score (Weighted): 0.8362\n"
          ]
        }
      ]
    },
    {
      "cell_type": "code",
      "source": [
        "# Detect encoding\n",
        "with open('sampled_test.csv', 'rb') as f:\n",
        "    result = chardet.detect(f.read())\n",
        "    encoding = result['encoding']\n",
        "    print(f\"Detected encoding: {encoding}\")\n",
        "\n",
        "# Load your actual labeled CSV file with detected encoding\n",
        "test_df = pd.read_csv('sampled_test.csv', encoding=encoding)\n",
        "\n",
        "test_df['label'] = test_df['label'].map(label_mapping)\n",
        "test_df['label'] = test_df['label'].astype('Int64')\n",
        "\n",
        "# Drop rows with NaN in the 'label' column after mapping\n",
        "test_df = test_df.dropna(subset=['label']).copy()\n",
        "\n",
        "\n",
        "test_texts, test_labels = prepare_data(test_df, 'text_clean', 'label')\n",
        "\n",
        "# Create a test dataset\n",
        "test_set = ReviewDataset(test_texts, test_labels, classifier.tokenizer, Config.MAX_LENGTH)"
      ],
      "metadata": {
        "id": "OWdC5phKBscm",
        "colab": {
          "base_uri": "https://localhost:8080/"
        },
        "outputId": "75ea10dc-edc3-4d06-b433-100c44cee9f9"
      },
      "execution_count": null,
      "outputs": [
        {
          "output_type": "stream",
          "name": "stdout",
          "text": [
            "Detected encoding: MacRoman\n"
          ]
        }
      ]
    },
    {
      "cell_type": "code",
      "source": [
        "test_predictions, test_true_labels = evaluate_model(classifier.model, test_set)\n",
        "\n",
        "# Print detailed evaluation\n",
        "evaluate_model_performance(test_true_labels, test_predictions)"
      ],
      "metadata": {
        "colab": {
          "base_uri": "https://localhost:8080/",
          "height": 1000
        },
        "id": "UJqrWSCFOAXn",
        "outputId": "c1b06472-7da3-473f-c5d1-17aa1f605963"
      },
      "execution_count": null,
      "outputs": [
        {
          "output_type": "stream",
          "name": "stderr",
          "text": [
            "Evaluating: 100%|██████████| 9/9 [00:00<00:00, 17.64it/s]\n"
          ]
        },
        {
          "output_type": "stream",
          "name": "stdout",
          "text": [
            "Classification Report:\n",
            "============================================================\n",
            "                    precision    recall  f1-score   support\n",
            "\n",
            "      Valid Review       0.82      0.96      0.89        85\n",
            "     Advertisement       0.00      0.00      0.00         6\n",
            "Irrelevant Content       0.76      0.70      0.73        37\n",
            "Rant Without Visit       0.00      0.00      0.00         6\n",
            "\n",
            "          accuracy                           0.81       134\n",
            "         macro avg       0.40      0.42      0.40       134\n",
            "      weighted avg       0.73      0.81      0.76       134\n",
            "\n"
          ]
        },
        {
          "output_type": "display_data",
          "data": {
            "text/plain": [
              "<Figure size 1000x800 with 2 Axes>"
            ],
            "image/png": "[encoded data removed]"
          },
          "metadata": {}
        },
        {
          "output_type": "stream",
          "name": "stdout",
          "text": [
            "\n",
            "Overall Metrics:\n",
            "Accuracy: 0.8060\n",
            "F1-Score (Macro): 0.4047\n",
            "F1-Score (Weighted): 0.7646\n"
          ]
        }
      ]
    }
  ]
}